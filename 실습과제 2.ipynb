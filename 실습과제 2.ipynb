{
 "cells": [
  {
   "cell_type": "markdown",
   "id": "a2635ea1-779b-4037-b30c-8bd43656dd84",
   "metadata": {},
   "source": [
    "# 입력 받은 값을 int로 받아 num에 저장한다"
   ]
  },
  {
   "cell_type": "code",
   "execution_count": 33,
   "id": "731ade33-9efc-44e2-a305-dd3b45c2335a",
   "metadata": {},
   "outputs": [
    {
     "name": "stdin",
     "output_type": "stream",
     "text": [
      "숫자를 입력해 주세요:  10\n"
     ]
    }
   ],
   "source": [
    "num = int(input(\"숫자를 입력해 주세요: \"))"
   ]
  },
  {
   "cell_type": "markdown",
   "id": "96a896d3-16a8-4fa9-9ef9-9a24991a00bb",
   "metadata": {},
   "source": [
    "# result변수를 1로 초기화하고 for문을 사용해 팩토리얼을 계산한다"
   ]
  },
  {
   "cell_type": "code",
   "execution_count": null,
   "id": "fa52ceb3-582b-4797-bd72-510162356c06",
   "metadata": {},
   "outputs": [],
   "source": [
    "result = 1\n",
    "for i in range(1,num+1):\n",
    "    result *= i"
   ]
  },
  {
   "cell_type": "markdown",
   "id": "bf6bc5b7-6876-4166-9db1-22c8fd1f966c",
   "metadata": {},
   "source": [
    "# print문을 사용해 출력한다"
   ]
  },
  {
   "cell_type": "code",
   "execution_count": 37,
   "id": "16289ea3-0c8b-45e7-aa95-07558c272f87",
   "metadata": {},
   "outputs": [
    {
     "name": "stdout",
     "output_type": "stream",
     "text": [
      "10 팩토리얼은 3628800입니다.\n"
     ]
    }
   ],
   "source": [
    "print(\"%d 팩토리얼은 %d입니다.\" %(num,result))"
   ]
  },
  {
   "cell_type": "code",
   "execution_count": null,
   "id": "fd985c9a-f6db-4f80-b5bb-92cf15a26c27",
   "metadata": {},
   "outputs": [],
   "source": []
  },
  {
   "cell_type": "code",
   "execution_count": null,
   "id": "7b54b4e4-6378-43b5-8809-4c0dae4272d8",
   "metadata": {},
   "outputs": [],
   "source": []
  },
  {
   "cell_type": "markdown",
   "id": "15e4be97-8ff5-4d78-98d4-18720077d592",
   "metadata": {},
   "source": [
    "# 중첩 for문을 사용한다 for문의 range를 1씩 작아지도록 설정해 결과가 나오도록 한다"
   ]
  },
  {
   "cell_type": "code",
   "execution_count": 39,
   "id": "8c9acd86-79fc-4931-92d3-fccd96bc690c",
   "metadata": {},
   "outputs": [
    {
     "name": "stdout",
     "output_type": "stream",
     "text": [
      "5 5 5 5 5 \n",
      "4 4 4 4 \n",
      "3 3 3 \n",
      "2 2 \n",
      "1 \n"
     ]
    }
   ],
   "source": [
    "for i in range(5,0,-1):\n",
    "    for j in range(i,0,-1):\n",
    "        print(i,end=\" \")\n",
    "\n",
    "    print()"
   ]
  },
  {
   "cell_type": "code",
   "execution_count": null,
   "id": "46d9638e-9a51-424f-8fbc-91cfe2495edb",
   "metadata": {},
   "outputs": [],
   "source": []
  },
  {
   "cell_type": "code",
   "execution_count": null,
   "id": "5f4ee3b2-c2c1-4521-a1c0-e6fcd1fa4a28",
   "metadata": {},
   "outputs": [],
   "source": []
  },
  {
   "cell_type": "markdown",
   "id": "44257abe-f505-42c8-9299-b4bd0aab50c2",
   "metadata": {},
   "source": [
    "# list_라는 이름의 리스트를 생성한다"
   ]
  },
  {
   "cell_type": "code",
   "execution_count": 41,
   "id": "034b7c09-4ca1-4798-9921-9dfdb0a14e8c",
   "metadata": {},
   "outputs": [],
   "source": [
    "list_ = []"
   ]
  },
  {
   "cell_type": "markdown",
   "id": "4964df26-7629-4721-b93c-c5e0e2023523",
   "metadata": {},
   "source": [
    "# 자연수를 입력받아 num에 저장한다"
   ]
  },
  {
   "cell_type": "code",
   "execution_count": 43,
   "id": "5f530130-23f4-46b3-86f7-2c8baef44899",
   "metadata": {},
   "outputs": [
    {
     "name": "stdin",
     "output_type": "stream",
     "text": [
      "자연수를 입력하세요.:  10\n"
     ]
    }
   ],
   "source": [
    "num = int(input(\"자연수를 입력하세요.: \"))"
   ]
  },
  {
   "cell_type": "markdown",
   "id": "ccdbced9-dbcb-4011-b630-0c087de9f396",
   "metadata": {},
   "source": [
    "# 1부터 입력받은 값까지의 완전수를 찾기 위해 for문을 사용한다\n",
    "# hap이라는 이름의 변수를 선언한다\n",
    "# i가 완전수인지 아닌지 확인하기 위한 for문을 사용한다\n",
    "# if문을 사용하여 i의 약수를 확인한다\n",
    "# i의 약수를 찾아 hap변수에 더한다\n",
    "# if문을 사용하여 i가 완전수인지 아닌지 확인한다\n",
    "# i가 완전수라면 list_에 저장한다"
   ]
  },
  {
   "cell_type": "code",
   "execution_count": 45,
   "id": "0a1268e7-3111-4eed-b03b-d657985d6d3a",
   "metadata": {},
   "outputs": [],
   "source": [
    "for i in range(1,num+1):\n",
    "    hap = 0\n",
    "    for j in range(1,i):\n",
    "        if i%j == 0:\n",
    "            hap += j\n",
    "    if hap == i:\n",
    "        list_.append(i)"
   ]
  },
  {
   "cell_type": "markdown",
   "id": "ce35de88-74b8-4c1a-b464-b0f9619df078",
   "metadata": {},
   "source": [
    "# print문을 사용해 완전수를 출력한다"
   ]
  },
  {
   "cell_type": "code",
   "execution_count": 47,
   "id": "26ce2902-83ff-48ad-a64f-61e9ccc91ba9",
   "metadata": {},
   "outputs": [
    {
     "name": "stdout",
     "output_type": "stream",
     "text": [
      "10이하의 완전수는 [6]입니다.\n"
     ]
    }
   ],
   "source": [
    "print(f\"{num}이하의 완전수는 {list_}입니다.\")"
   ]
  },
  {
   "cell_type": "code",
   "execution_count": null,
   "id": "747ab6d3-df55-4d1f-b887-95979bef3761",
   "metadata": {},
   "outputs": [],
   "source": []
  }
 ],
 "metadata": {
  "kernelspec": {
   "display_name": "anaconda-panel-2023.05-py310",
   "language": "python",
   "name": "conda-env-anaconda-panel-2023.05-py310-py"
  },
  "language_info": {
   "codemirror_mode": {
    "name": "ipython",
    "version": 3
   },
   "file_extension": ".py",
   "mimetype": "text/x-python",
   "name": "python",
   "nbconvert_exporter": "python",
   "pygments_lexer": "ipython3",
   "version": "3.11.5"
  }
 },
 "nbformat": 4,
 "nbformat_minor": 5
}
